{
 "cells": [
  {
   "cell_type": "code",
   "execution_count": 1,
   "metadata": {},
   "outputs": [],
   "source": [
    "# Import Dependencies\n",
    "import re"
   ]
  },
  {
   "cell_type": "code",
   "execution_count": 31,
   "metadata": {},
   "outputs": [],
   "source": [
    "def replace_emoticons(tweet):\n",
    "    \"\"\"Replace emoticons with positive or negative words\"\"\"\n",
    "\n",
    "    \n",
    "    # Define emoticons to be replaced\n",
    "    emoticon_pos = [':-)', ':)', ';)', ':o)', ':]', ':3', ':c)', ':>', '=]', '8)', '=)',\\\n",
    "                    ':}', ':^)', ':-D', ':D', '8-D', '8D', 'x-D', 'xD', 'X-D', 'XD',\\\n",
    "                    '=-D', '=D', '=-3', '=3', ':-))', \":'-)\", \":')\", ':*', ':^*', '>:P',\\\n",
    "                    ':-P',':P', 'X-P','x-p', 'xp', 'XP', ':-p', ':p', '=p', ':-b', ':b',\\\n",
    "                    '>:)','>;)', '>:-)', '<3']\n",
    "    emoticon_neg = [':L', ':-/', '>:/', ':S', '>:[', ':@', ':-(', ':[', ':-||', '=L',\\\n",
    "                    ':<',':-[', ':-<', '=\\\\', '=/', '>:(', ':(', '>.<', \":'-(\", \":'(\",\\\n",
    "                    ':\\\\', ':-c',':c', ':{', '>:\\\\', ';(']\n",
    "    \n",
    "    # If a word in a tweet is an emoticon, replace that emoticon good/bad\n",
    "    for emoticon in emoticon_pos:\n",
    "        tweet.replace(emoticon, \"Good\", tweet)\n",
    "    for emoticon in emoticon_neg:\n",
    "        tweet.replace(emoticon, \"Bad\", tweet)\n",
    "\n",
    "    return(tweet)"
   ]
  },
  {
   "cell_type": "code",
   "execution_count": 50,
   "metadata": {},
   "outputs": [],
   "source": [
    "def clean(tweet):\n",
    "    \"\"\"Cleans given tweet from tweet to prepare for using in machine learning model\"\"\"\n",
    "    \n",
    "\n",
    "    # Replace emoticons\n",
    "    tweet = replace_emoticons(tweet)\n",
    "    # Replace emojis\n",
    "    tweet = re.sub(r'[^\\x00-\\x7F]+','', tweet)\n",
    "    # Remove HTML special entities\n",
    "    tweet = re.sub(r\"\\&\\w*;\",\" \", tweet)\n",
    "    # Remove hyperlinks\n",
    "    tweet = re.sub(r\"http[s]?://(?:[a-zA-Z]|[0-9]|[$-_@.&+]|[!*\\(\\), ]|(?:%[0-9a-fA-F][0-9a-fA-F]))\\S+\",\\\n",
    "                    \"\", tweet)\n",
    "    # Remove twitter usernames\n",
    "    tweet = re.sub(r\"@[^\\s]+\",\"\", tweet)\n",
    "    # Remove numbers\n",
    "    tweet = re.sub(\"\\d+\", \"\", tweet)\n",
    "    # Remove special characters\n",
    "    tweet = re.sub(r\"[^\\w\\s]\", \" \", tweet)\n",
    "    tweet = re.sub(r\"\\_\", \" \", tweet)\n",
    "    # Remove 1 letter words\n",
    "    tweet = re.sub(r\"\\W*\\b\\w\\b\", \"\", tweet)\n",
    "    # Remove leftover whitespace\n",
    "    if tweet:\n",
    "        tweet = \" \".join(tweet.split())\n",
    "    # Make lowercase\n",
    "    tweet = tweet.lower()\n",
    "    \n",
    "    return(tweet)"
   ]
  }
 ],
 "metadata": {
  "kernelspec": {
   "display_name": "Python 3",
   "language": "python",
   "name": "python3"
  },
  "language_info": {
   "codemirror_mode": {
    "name": "ipython",
    "version": 3
   },
   "file_extension": ".py",
   "mimetype": "text/x-python",
   "name": "python",
   "nbconvert_exporter": "python",
   "pygments_lexer": "ipython3",
   "version": "3.7.1"
  }
 },
 "nbformat": 4,
 "nbformat_minor": 2
}
