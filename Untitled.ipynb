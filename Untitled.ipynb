{
 "cells": [
  {
   "cell_type": "code",
   "execution_count": 4,
   "metadata": {},
   "outputs": [],
   "source": [
    "import spacy\n",
    "\n",
    "# nlp = spacy.load(\"en_core_web_sm\")\n",
    "# doc = nlp(u\"Apple       is looking &amp; at ':-)', ':)' didn't @gretelup > isn't he'll https://towardsdatascience.com  buying U.K. startup for $1 billion\")\n",
    "# for token in doc:\n",
    "#     print(token.text)"
   ]
  },
  {
   "cell_type": "code",
   "execution_count": 7,
   "metadata": {},
   "outputs": [],
   "source": [
    "nlp = spacy.load('en')"
   ]
  },
  {
   "cell_type": "code",
   "execution_count": 6,
   "metadata": {},
   "outputs": [
    {
     "name": "stdout",
     "output_type": "stream",
     "text": [
      "Apple\n",
      "      \n",
      "is\n",
      "looking\n",
      "&\n",
      "amp\n",
      ";\n",
      "at\n",
      "'\n",
      ":-)\n",
      "'\n",
      ",\n",
      "'\n",
      ":)\n",
      "'\n",
      "did\n",
      "n't\n",
      "@gretelup\n",
      ">\n",
      "is\n",
      "n't\n",
      "he\n",
      "'ll\n",
      "https://towardsdatascience.com\n",
      " \n",
      "buying\n",
      "U.K.\n",
      "startup\n",
      "for\n",
      "$\n",
      "1\n",
      "billion\n"
     ]
    }
   ],
   "source": [
    "doc = nlp(u\"Apple       is looking &amp; at ':-)', ':)' didn't @gretelup > isn't he'll https://towardsdatascience.com  buying U.K. startup for $1 billion\")\n",
    "for token in doc:\n",
    "    print(token.text)"
   ]
  },
  {
   "cell_type": "code",
   "execution_count": 14,
   "metadata": {},
   "outputs": [],
   "source": [
    "import pandas as pd\n",
    "from datetime import datetime, timedelta"
   ]
  },
  {
   "cell_type": "code",
   "execution_count": 21,
   "metadata": {},
   "outputs": [],
   "source": [
    "df = pd.read_csv(\"data/BidenTrain.csv\", error_bad_lines=False)"
   ]
  },
  {
   "cell_type": "code",
   "execution_count": 22,
   "metadata": {},
   "outputs": [
    {
     "data": {
      "text/html": [
       "<div>\n",
       "<style scoped>\n",
       "    .dataframe tbody tr th:only-of-type {\n",
       "        vertical-align: middle;\n",
       "    }\n",
       "\n",
       "    .dataframe tbody tr th {\n",
       "        vertical-align: top;\n",
       "    }\n",
       "\n",
       "    .dataframe thead th {\n",
       "        text-align: right;\n",
       "    }\n",
       "</style>\n",
       "<table border=\"1\" class=\"dataframe\">\n",
       "  <thead>\n",
       "    <tr style=\"text-align: right;\">\n",
       "      <th></th>\n",
       "      <th>Date</th>\n",
       "      <th>Favorite</th>\n",
       "      <th>ID</th>\n",
       "      <th>Retweet</th>\n",
       "      <th>Text</th>\n",
       "    </tr>\n",
       "  </thead>\n",
       "  <tbody>\n",
       "    <tr>\n",
       "      <th>0</th>\n",
       "      <td>2019-07-31 13:20:35</td>\n",
       "      <td>0</td>\n",
       "      <td>1156555255473160194</td>\n",
       "      <td>0</td>\n",
       "      <td>-@CNN doesn't like @BernieSanders pointing out...</td>\n",
       "    </tr>\n",
       "    <tr>\n",
       "      <th>1</th>\n",
       "      <td>2019-07-31 13:20:32</td>\n",
       "      <td>0</td>\n",
       "      <td>1156555245700468742</td>\n",
       "      <td>0</td>\n",
       "      <td>@JoeBiden Disingenuous - #MedicareForAll Joe</td>\n",
       "    </tr>\n",
       "    <tr>\n",
       "      <th>2</th>\n",
       "      <td>2019-07-31 13:20:27</td>\n",
       "      <td>0</td>\n",
       "      <td>1156555221054758912</td>\n",
       "      <td>0</td>\n",
       "      <td>@TomPerez Now tonight we need @CoryBooker @Sen...</td>\n",
       "    </tr>\n",
       "    <tr>\n",
       "      <th>3</th>\n",
       "      <td>2019-07-31 13:20:25</td>\n",
       "      <td>0</td>\n",
       "      <td>1156555213710471168</td>\n",
       "      <td>0</td>\n",
       "      <td>Looking for a logo for National Twin Day. What...</td>\n",
       "    </tr>\n",
       "    <tr>\n",
       "      <th>4</th>\n",
       "      <td>2019-07-31 13:20:18</td>\n",
       "      <td>0</td>\n",
       "      <td>1156555183385694209</td>\n",
       "      <td>0</td>\n",
       "      <td>@CassLovesToTan @JoeBiden @joncoopertweets Tru...</td>\n",
       "    </tr>\n",
       "  </tbody>\n",
       "</table>\n",
       "</div>"
      ],
      "text/plain": [
       "                  Date  Favorite                   ID  Retweet  \\\n",
       "0  2019-07-31 13:20:35         0  1156555255473160194        0   \n",
       "1  2019-07-31 13:20:32         0  1156555245700468742        0   \n",
       "2  2019-07-31 13:20:27         0  1156555221054758912        0   \n",
       "3  2019-07-31 13:20:25         0  1156555213710471168        0   \n",
       "4  2019-07-31 13:20:18         0  1156555183385694209        0   \n",
       "\n",
       "                                                Text  \n",
       "0  -@CNN doesn't like @BernieSanders pointing out...  \n",
       "1       @JoeBiden Disingenuous - #MedicareForAll Joe  \n",
       "2  @TomPerez Now tonight we need @CoryBooker @Sen...  \n",
       "3  Looking for a logo for National Twin Day. What...  \n",
       "4  @CassLovesToTan @JoeBiden @joncoopertweets Tru...  "
      ]
     },
     "execution_count": 22,
     "metadata": {},
     "output_type": "execute_result"
    }
   ],
   "source": [
    "df.head()"
   ]
  },
  {
   "cell_type": "code",
   "execution_count": 23,
   "metadata": {},
   "outputs": [],
   "source": [
    "df[\"Date\"] = df[\"Date\"].map(lambda x: datetime.strptime(x, '%Y-%m-%d %H:%M:%S') - timedelta(hours=4))"
   ]
  },
  {
   "cell_type": "code",
   "execution_count": 24,
   "metadata": {},
   "outputs": [
    {
     "data": {
      "text/html": [
       "<div>\n",
       "<style scoped>\n",
       "    .dataframe tbody tr th:only-of-type {\n",
       "        vertical-align: middle;\n",
       "    }\n",
       "\n",
       "    .dataframe tbody tr th {\n",
       "        vertical-align: top;\n",
       "    }\n",
       "\n",
       "    .dataframe thead th {\n",
       "        text-align: right;\n",
       "    }\n",
       "</style>\n",
       "<table border=\"1\" class=\"dataframe\">\n",
       "  <thead>\n",
       "    <tr style=\"text-align: right;\">\n",
       "      <th></th>\n",
       "      <th>Date</th>\n",
       "      <th>Favorite</th>\n",
       "      <th>ID</th>\n",
       "      <th>Retweet</th>\n",
       "      <th>Text</th>\n",
       "    </tr>\n",
       "  </thead>\n",
       "  <tbody>\n",
       "    <tr>\n",
       "      <th>0</th>\n",
       "      <td>2019-07-31 09:20:35</td>\n",
       "      <td>0</td>\n",
       "      <td>1156555255473160194</td>\n",
       "      <td>0</td>\n",
       "      <td>-@CNN doesn't like @BernieSanders pointing out...</td>\n",
       "    </tr>\n",
       "    <tr>\n",
       "      <th>1</th>\n",
       "      <td>2019-07-31 09:20:32</td>\n",
       "      <td>0</td>\n",
       "      <td>1156555245700468742</td>\n",
       "      <td>0</td>\n",
       "      <td>@JoeBiden Disingenuous - #MedicareForAll Joe</td>\n",
       "    </tr>\n",
       "    <tr>\n",
       "      <th>2</th>\n",
       "      <td>2019-07-31 09:20:27</td>\n",
       "      <td>0</td>\n",
       "      <td>1156555221054758912</td>\n",
       "      <td>0</td>\n",
       "      <td>@TomPerez Now tonight we need @CoryBooker @Sen...</td>\n",
       "    </tr>\n",
       "    <tr>\n",
       "      <th>3</th>\n",
       "      <td>2019-07-31 09:20:25</td>\n",
       "      <td>0</td>\n",
       "      <td>1156555213710471168</td>\n",
       "      <td>0</td>\n",
       "      <td>Looking for a logo for National Twin Day. What...</td>\n",
       "    </tr>\n",
       "    <tr>\n",
       "      <th>4</th>\n",
       "      <td>2019-07-31 09:20:18</td>\n",
       "      <td>0</td>\n",
       "      <td>1156555183385694209</td>\n",
       "      <td>0</td>\n",
       "      <td>@CassLovesToTan @JoeBiden @joncoopertweets Tru...</td>\n",
       "    </tr>\n",
       "  </tbody>\n",
       "</table>\n",
       "</div>"
      ],
      "text/plain": [
       "                 Date  Favorite                   ID  Retweet  \\\n",
       "0 2019-07-31 09:20:35         0  1156555255473160194        0   \n",
       "1 2019-07-31 09:20:32         0  1156555245700468742        0   \n",
       "2 2019-07-31 09:20:27         0  1156555221054758912        0   \n",
       "3 2019-07-31 09:20:25         0  1156555213710471168        0   \n",
       "4 2019-07-31 09:20:18         0  1156555183385694209        0   \n",
       "\n",
       "                                                Text  \n",
       "0  -@CNN doesn't like @BernieSanders pointing out...  \n",
       "1       @JoeBiden Disingenuous - #MedicareForAll Joe  \n",
       "2  @TomPerez Now tonight we need @CoryBooker @Sen...  \n",
       "3  Looking for a logo for National Twin Day. What...  \n",
       "4  @CassLovesToTan @JoeBiden @joncoopertweets Tru...  "
      ]
     },
     "execution_count": 24,
     "metadata": {},
     "output_type": "execute_result"
    }
   ],
   "source": [
    "df.head()"
   ]
  },
  {
   "cell_type": "code",
   "execution_count": 7,
   "metadata": {},
   "outputs": [
    {
     "data": {
      "text/plain": [
       "str"
      ]
     },
     "execution_count": 7,
     "metadata": {},
     "output_type": "execute_result"
    }
   ],
   "source": [
    "type(date)"
   ]
  },
  {
   "cell_type": "code",
   "execution_count": 11,
   "metadata": {},
   "outputs": [],
   "source": [
    "date2 = datetime.strptime(date, '%Y-%m-%d %H:%M:%S')"
   ]
  },
  {
   "cell_type": "code",
   "execution_count": 12,
   "metadata": {},
   "outputs": [
    {
     "data": {
      "text/plain": [
       "datetime.datetime(2019, 7, 31, 5, 45, 21)"
      ]
     },
     "execution_count": 12,
     "metadata": {},
     "output_type": "execute_result"
    }
   ],
   "source": [
    "date2"
   ]
  },
  {
   "cell_type": "code",
   "execution_count": 15,
   "metadata": {},
   "outputs": [],
   "source": [
    "date3 = date2 - timedelta(hours=4)"
   ]
  },
  {
   "cell_type": "code",
   "execution_count": 16,
   "metadata": {},
   "outputs": [
    {
     "data": {
      "text/plain": [
       "datetime.datetime(2019, 7, 31, 1, 45, 21)"
      ]
     },
     "execution_count": 16,
     "metadata": {},
     "output_type": "execute_result"
    }
   ],
   "source": [
    "date3"
   ]
  },
  {
   "cell_type": "code",
   "execution_count": null,
   "metadata": {},
   "outputs": [],
   "source": []
  }
 ],
 "metadata": {
  "kernelspec": {
   "display_name": "Python 3",
   "language": "python",
   "name": "python3"
  },
  "language_info": {
   "codemirror_mode": {
    "name": "ipython",
    "version": 3
   },
   "file_extension": ".py",
   "mimetype": "text/x-python",
   "name": "python",
   "nbconvert_exporter": "python",
   "pygments_lexer": "ipython3",
   "version": "3.7.1"
  }
 },
 "nbformat": 4,
 "nbformat_minor": 2
}
