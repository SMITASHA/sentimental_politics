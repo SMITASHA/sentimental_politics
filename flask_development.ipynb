{
 "cells": [
  {
   "cell_type": "code",
   "execution_count": 9,
   "metadata": {},
   "outputs": [],
   "source": [
    "# Import Python SQL toolkit and Object Relational Mapper\n",
    "import sqlalchemy\n",
    "from sqlalchemy.ext.automap import automap_base\n",
    "from sqlalchemy.orm import Session\n",
    "from sqlalchemy import create_engine, func\n",
    "import pandas as pd"
   ]
  },
  {
   "cell_type": "code",
   "execution_count": 2,
   "metadata": {},
   "outputs": [],
   "source": [
    "# Connect to database\n",
    "engine = create_engine(\"sqlite:///politics_db.db\", connect_args={'check_same_thread': False}, echo=True)\n",
    "\n",
    "# Reflect database and tables into new models\n",
    "Base = automap_base()"
   ]
  },
  {
   "cell_type": "code",
   "execution_count": 3,
   "metadata": {},
   "outputs": [
    {
     "name": "stdout",
     "output_type": "stream",
     "text": [
      "2019-08-11 14:44:58,779 INFO sqlalchemy.engine.base.Engine SELECT CAST('test plain returns' AS VARCHAR(60)) AS anon_1\n",
      "2019-08-11 14:44:58,782 INFO sqlalchemy.engine.base.Engine ()\n",
      "2019-08-11 14:44:58,798 INFO sqlalchemy.engine.base.Engine SELECT CAST('test unicode returns' AS VARCHAR(60)) AS anon_1\n",
      "2019-08-11 14:44:58,800 INFO sqlalchemy.engine.base.Engine ()\n",
      "2019-08-11 14:44:58,805 INFO sqlalchemy.engine.base.Engine SELECT name FROM sqlite_master WHERE type='table' ORDER BY name\n",
      "2019-08-11 14:44:58,810 INFO sqlalchemy.engine.base.Engine ()\n",
      "2019-08-11 14:44:58,815 INFO sqlalchemy.engine.base.Engine PRAGMA table_info(\"candidates\")\n",
      "2019-08-11 14:44:58,820 INFO sqlalchemy.engine.base.Engine ()\n",
      "2019-08-11 14:44:58,823 INFO sqlalchemy.engine.base.Engine SELECT sql FROM  (SELECT * FROM sqlite_master UNION ALL   SELECT * FROM sqlite_temp_master) WHERE name = 'candidates' AND type = 'table'\n",
      "2019-08-11 14:44:58,825 INFO sqlalchemy.engine.base.Engine ()\n",
      "2019-08-11 14:44:58,832 INFO sqlalchemy.engine.base.Engine PRAGMA foreign_key_list(\"candidates\")\n",
      "2019-08-11 14:44:58,834 INFO sqlalchemy.engine.base.Engine ()\n",
      "2019-08-11 14:44:58,840 INFO sqlalchemy.engine.base.Engine SELECT sql FROM  (SELECT * FROM sqlite_master UNION ALL   SELECT * FROM sqlite_temp_master) WHERE name = 'candidates' AND type = 'table'\n",
      "2019-08-11 14:44:58,848 INFO sqlalchemy.engine.base.Engine ()\n",
      "2019-08-11 14:44:58,853 INFO sqlalchemy.engine.base.Engine PRAGMA index_list(\"candidates\")\n",
      "2019-08-11 14:44:58,856 INFO sqlalchemy.engine.base.Engine ()\n",
      "2019-08-11 14:44:58,858 INFO sqlalchemy.engine.base.Engine PRAGMA index_list(\"candidates\")\n",
      "2019-08-11 14:44:58,860 INFO sqlalchemy.engine.base.Engine ()\n",
      "2019-08-11 14:44:58,864 INFO sqlalchemy.engine.base.Engine PRAGMA index_info(\"sqlite_autoindex_candidates_1\")\n",
      "2019-08-11 14:44:58,865 INFO sqlalchemy.engine.base.Engine ()\n",
      "2019-08-11 14:44:58,868 INFO sqlalchemy.engine.base.Engine SELECT sql FROM  (SELECT * FROM sqlite_master UNION ALL   SELECT * FROM sqlite_temp_master) WHERE name = 'candidates' AND type = 'table'\n",
      "2019-08-11 14:44:58,869 INFO sqlalchemy.engine.base.Engine ()\n",
      "2019-08-11 14:44:58,875 INFO sqlalchemy.engine.base.Engine PRAGMA table_info(\"twitter\")\n",
      "2019-08-11 14:44:58,877 INFO sqlalchemy.engine.base.Engine ()\n",
      "2019-08-11 14:44:58,880 INFO sqlalchemy.engine.base.Engine SELECT sql FROM  (SELECT * FROM sqlite_master UNION ALL   SELECT * FROM sqlite_temp_master) WHERE name = 'twitter' AND type = 'table'\n",
      "2019-08-11 14:44:58,881 INFO sqlalchemy.engine.base.Engine ()\n",
      "2019-08-11 14:44:58,884 INFO sqlalchemy.engine.base.Engine PRAGMA foreign_key_list(\"twitter\")\n",
      "2019-08-11 14:44:58,885 INFO sqlalchemy.engine.base.Engine ()\n",
      "2019-08-11 14:44:58,887 INFO sqlalchemy.engine.base.Engine SELECT sql FROM  (SELECT * FROM sqlite_master UNION ALL   SELECT * FROM sqlite_temp_master) WHERE name = 'twitter' AND type = 'table'\n",
      "2019-08-11 14:44:58,888 INFO sqlalchemy.engine.base.Engine ()\n",
      "2019-08-11 14:44:58,890 INFO sqlalchemy.engine.base.Engine PRAGMA index_list(\"twitter\")\n",
      "2019-08-11 14:44:58,891 INFO sqlalchemy.engine.base.Engine ()\n",
      "2019-08-11 14:44:58,893 INFO sqlalchemy.engine.base.Engine PRAGMA index_list(\"twitter\")\n",
      "2019-08-11 14:44:58,894 INFO sqlalchemy.engine.base.Engine ()\n",
      "2019-08-11 14:44:58,896 INFO sqlalchemy.engine.base.Engine PRAGMA index_info(\"sqlite_autoindex_twitter_1\")\n",
      "2019-08-11 14:44:58,897 INFO sqlalchemy.engine.base.Engine ()\n",
      "2019-08-11 14:44:58,900 INFO sqlalchemy.engine.base.Engine SELECT sql FROM  (SELECT * FROM sqlite_master UNION ALL   SELECT * FROM sqlite_temp_master) WHERE name = 'twitter' AND type = 'table'\n",
      "2019-08-11 14:44:58,901 INFO sqlalchemy.engine.base.Engine ()\n"
     ]
    }
   ],
   "source": [
    "Base.prepare(engine, reflect=True)\n",
    "Candidates = Base.classes.candidates\n",
    "Twitter = Base.classes.twitter\n",
    "\n",
    "# Create our session from Python to the DB\n",
    "session = Session(bind=engine)"
   ]
  },
  {
   "cell_type": "code",
   "execution_count": 4,
   "metadata": {},
   "outputs": [],
   "source": [
    "username = \"@JoeBiden\""
   ]
  },
  {
   "cell_type": "code",
   "execution_count": 5,
   "metadata": {},
   "outputs": [
    {
     "name": "stdout",
     "output_type": "stream",
     "text": [
      "2019-08-11 14:45:04,435 INFO sqlalchemy.engine.base.Engine BEGIN (implicit)\n",
      "2019-08-11 14:45:04,439 INFO sqlalchemy.engine.base.Engine SELECT twitter.tweet_date AS twitter_tweet_date, twitter.sentiment AS twitter_sentiment, count(twitter.id) AS tweet_count \n",
      "FROM twitter \n",
      "WHERE twitter.username = ? GROUP BY twitter.tweet_date, twitter.sentiment\n",
      "2019-08-11 14:45:04,447 INFO sqlalchemy.engine.base.Engine ('@JoeBiden',)\n"
     ]
    }
   ],
   "source": [
    "# Get sentiment data \n",
    "results = session.query(Twitter.tweet_date, Twitter.sentiment, func.count(Twitter.id).label(\"tweet_count\"))\\\n",
    "    .group_by(Twitter.tweet_date)\\\n",
    "    .group_by(Twitter.sentiment)\\\n",
    "    .filter(Twitter.username == username)\\\n",
    "    .all()"
   ]
  },
  {
   "cell_type": "code",
   "execution_count": 13,
   "metadata": {},
   "outputs": [],
   "source": [
    "# Convert query result into 2 lists of dictionaries: one for positive, one for negative\n",
    "positive_tweets = []\n",
    "negative_tweets = []\n",
    "\n",
    "for result in results:\n",
    "    if result.sentiment:\n",
    "        positive_count = result.tweet_count\n",
    "        tweet_dict = {\"date\": result.tweet_date, \"positive_count\": positive_count}\n",
    "        positive_tweets.append(tweet_dict)\n",
    "    else:\n",
    "        negative_count = result.tweet_count\n",
    "        tweet_dict = {\"date\": result.tweet_date, \"negative_count\": negative_count}\n",
    "        negative_tweets.append(tweet_dict)"
   ]
  },
  {
   "cell_type": "code",
   "execution_count": 14,
   "metadata": {},
   "outputs": [],
   "source": [
    "# Convert lists to dataframe and merge on date\n",
    "positive_df = pd.DataFrame(positive_tweets)\n",
    "negative_df = pd.DataFrame(negative_tweets)\n",
    "twitter_df = pd.merge(positive_df, negative_df, on = \"date\")\n",
    "\n",
    "# Returned dataframe as json object\n",
    "jsonified = twitter_df.to_json(orient = \"records\")"
   ]
  },
  {
   "cell_type": "code",
   "execution_count": 15,
   "metadata": {},
   "outputs": [],
   "source": []
  },
  {
   "cell_type": "code",
   "execution_count": 17,
   "metadata": {},
   "outputs": [],
   "source": []
  },
  {
   "cell_type": "code",
   "execution_count": 18,
   "metadata": {},
   "outputs": [
    {
     "data": {
      "text/plain": [
       "'[{\"date\":\"2019-08-01\",\"positive_count\":7903,\"negative_count\":14273},{\"date\":\"2019-08-02\",\"positive_count\":5287,\"negative_count\":8720},{\"date\":\"2019-08-03\",\"positive_count\":4406,\"negative_count\":7439},{\"date\":\"2019-08-04\",\"positive_count\":1353,\"negative_count\":2310},{\"date\":\"2019-08-05\",\"positive_count\":1342,\"negative_count\":2228},{\"date\":\"2019-08-06\",\"positive_count\":1107,\"negative_count\":1978}]'"
      ]
     },
     "execution_count": 18,
     "metadata": {},
     "output_type": "execute_result"
    }
   ],
   "source": []
  },
  {
   "cell_type": "code",
   "execution_count": null,
   "metadata": {},
   "outputs": [],
   "source": []
  }
 ],
 "metadata": {
  "kernelspec": {
   "display_name": "Python 3",
   "language": "python",
   "name": "python3"
  },
  "language_info": {
   "codemirror_mode": {
    "name": "ipython",
    "version": 3
   },
   "file_extension": ".py",
   "mimetype": "text/x-python",
   "name": "python",
   "nbconvert_exporter": "python",
   "pygments_lexer": "ipython3",
   "version": "3.7.1"
  }
 },
 "nbformat": 4,
 "nbformat_minor": 2
}
