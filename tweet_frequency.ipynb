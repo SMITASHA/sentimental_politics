{
 "cells": [
  {
   "cell_type": "code",
   "execution_count": 1,
   "metadata": {},
   "outputs": [],
   "source": [
    "# Import Dependencies\n",
    "import pandas as pd\n",
    "import nltk\n",
    "from nltk.corpus import stopwords"
   ]
  },
  {
   "cell_type": "code",
   "execution_count": 2,
   "metadata": {},
   "outputs": [],
   "source": [
    "usernames = [\"@JoeBiden\", \"@BernieSanders\", \"@ewarren\", \"@KamalaHarris\"]"
   ]
  },
  {
   "cell_type": "code",
   "execution_count": 4,
   "metadata": {},
   "outputs": [],
   "source": [
    "for username in usernames:\n",
    "    twitter_df = pd.read_csv(f\"data/{username}_clean.csv\", error_bad_lines=False)\n",
    "\n",
    "    stop_words = stopwords.words(\"english\")\n",
    "\n",
    "    top_N = 40\n",
    "    a = twitter_df[\"tweet\"].str.cat(sep=' ')\n",
    "    words = nltk.tokenize.word_tokenize(a)\n",
    "    words = [word for word in words if not word in stop_words]\n",
    "    word_dist = nltk.FreqDist(words)\n",
    "    rslt = pd.DataFrame(word_dist.most_common(top_N),\n",
    "                        columns=['text', 'weight'])\n",
    "    \n",
    "    rslt.to_csv(f\"data/{username}_freq.csv\", index = False)"
   ]
  },
  {
   "cell_type": "code",
   "execution_count": null,
   "metadata": {},
   "outputs": [],
   "source": []
  }
 ],
 "metadata": {
  "kernelspec": {
   "display_name": "Python 3",
   "language": "python",
   "name": "python3"
  },
  "language_info": {
   "codemirror_mode": {
    "name": "ipython",
    "version": 3
   },
   "file_extension": ".py",
   "mimetype": "text/x-python",
   "name": "python",
   "nbconvert_exporter": "python",
   "pygments_lexer": "ipython3",
   "version": "3.7.1"
  }
 },
 "nbformat": 4,
 "nbformat_minor": 2
}
