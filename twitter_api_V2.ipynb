{
 "cells": [
  {
   "cell_type": "code",
   "execution_count": null,
   "metadata": {},
   "outputs": [],
   "source": [
    "# Import dependencies\n",
    "import tweepy\n",
    "import pandas as pd\n",
    "\n",
    "from api_keys import API_key, secret_key, access_token, secret_token"
   ]
  },
  {
   "cell_type": "code",
   "execution_count": null,
   "metadata": {},
   "outputs": [],
   "source": [
    "# Query API for tweets based on search parameters\n",
    "def get_tweets(search):\n",
    "    \"\"\"Queries API for tweets based on given search and date parameters.\n",
    "    Returns list of search result objects\"\"\"\n",
    " \n",
    "    tweets = tweepy.Cursor(api.user_timeline,\\\n",
    "                           id = search, \\\n",
    "                           tweet_mode='extended').items(100)\n",
    "    return tweets"
   ]
  },
  {
   "cell_type": "code",
   "execution_count": null,
   "metadata": {},
   "outputs": [],
   "source": [
    "def convert_tweets(tweets):\n",
    "    \"\"\"Extracts desired tweet attributes into returned dataframe\"\"\"\n",
    "\n",
    "\n",
    "    tweet_list = []\n",
    "    for tweet in tweets:\n",
    "        tweet_dict = {'User Name': tweet.user.name,\\\n",
    "                      'Tweet Created At': tweet.created_at,\\\n",
    "                      'Tweet Text': tweet.full_text,\\\n",
    "                      'Retweet Count': tweet.retweet_count,\\\n",
    "                      'Favorite Count': tweet.favorite_count}\n",
    "        tweet_list.append(tweet_dict)\n",
    "        \n",
    "    tweet_df = pd.DataFrame(tweet_list)\n",
    "    \n",
    "    return(tweet_df)"
   ]
  },
  {
   "cell_type": "code",
   "execution_count": null,
   "metadata": {},
   "outputs": [],
   "source": [
    "def save_tweets(tweet_df, candidate_name):\n",
    "    \"\"\"Saves dataframe as csv\"\"\"\n",
    "\n",
    "\n",
    "    filename = f\"{candidate_name}_user.csv\"\n",
    "    tweet_df.to_csv(filename, index=False, header= True)"
   ]
  },
  {
   "cell_type": "code",
   "execution_count": null,
   "metadata": {},
   "outputs": [],
   "source": [
    "# Set authorization for querying twitter API using tweepy\n",
    "auth = tweepy.OAuthHandler(API_key, secret_key)\n",
    "auth.set_access_token(access_token, secret_token)\n",
    "api = tweepy.API(auth, wait_on_rate_limit=True)"
   ]
  },
  {
   "cell_type": "code",
   "execution_count": null,
   "metadata": {},
   "outputs": [],
   "source": [
    "# Create dictionary of Candidates\n",
    "key = [\"Biden\", \"Sanders\", \"Warren\", \"Harris\"]\n",
    "value = [\"@JoeBiden\", \"@BernieSanders\", \"@ewarren\", \"KamalaHarris\"]\n",
    "\n",
    "candidates = dict(zip(key, value))"
   ]
  },
  {
   "cell_type": "code",
   "execution_count": null,
   "metadata": {},
   "outputs": [],
   "source": [
    "for name in key:\n",
    "    \n",
    "    # Get tweets for candidate\n",
    "    tweets = get_tweets(candidates[name])\n",
    "\n",
    "    # Convert tweets to dataframe\n",
    "    tweet_df = convert_tweets(tweets)\n",
    "\n",
    "    # Save tweets to csv\n",
    "    save_tweets(tweet_df, name)"
   ]
  }
 ],
 "metadata": {
  "kernelspec": {
   "display_name": "Python 3",
   "language": "python",
   "name": "python3"
  },
  "language_info": {
   "codemirror_mode": {
    "name": "ipython",
    "version": 3
   },
   "file_extension": ".py",
   "mimetype": "text/x-python",
   "name": "python",
   "nbconvert_exporter": "python",
   "pygments_lexer": "ipython3",
   "version": "3.7.1"
  }
 },
 "nbformat": 4,
 "nbformat_minor": 2
}
