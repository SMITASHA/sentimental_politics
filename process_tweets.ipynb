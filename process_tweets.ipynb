{
 "cells": [
  {
   "cell_type": "code",
   "execution_count": 2,
   "metadata": {},
   "outputs": [],
   "source": [
    "# Import Dependencies\n",
    "import pandas as pd\n",
    "import numpy as np\n",
    "import re\n",
    "import spacy\n",
    "import sqlite3\n",
    "from spacy.attrs import ORTH, LEMMA, NORM, TAG\n",
    "from datetime import datetime, timedelta\n",
    "from spacy.attrs import ORTH, LEMMA, NORM, TAG\n",
    "from clean import replace_emoticons, clean_text, clean_tweet\n",
    "from joblib import load"
   ]
  },
  {
   "cell_type": "code",
   "execution_count": 3,
   "metadata": {},
   "outputs": [],
   "source": [
    "# Load machine learning prediction model\n",
    "model = load(\"twitter_model.joblib\")"
   ]
  },
  {
   "cell_type": "code",
   "execution_count": 9,
   "metadata": {},
   "outputs": [
    {
     "data": {
      "text/plain": [
       "<sqlite3.Cursor at 0x1a2a357ce0>"
      ]
     },
     "execution_count": 9,
     "metadata": {},
     "output_type": "execute_result"
    }
   ],
   "source": [
    "# Connect to database and create twitter table\n",
    "conn = sqlite3.connect(\"politics_db.db\")\n",
    "conn.execute(\"DROP TABLE IF EXISTS twitter;\")\n",
    "conn.execute(\"\"\"CREATE TABLE \"twitter\" (\n",
    "            \"id\" TEXT UNIQUE,\n",
    "            \"twitter_id\" INTEGER,\n",
    "            \"tweet\" TEXT, \n",
    "            \"tweet_date\" TEXT,\n",
    "            \"retweet\" INTEGER,\n",
    "            \"favorite\" INTEGER,\n",
    "            \"username\" TEXT,\n",
    "            \"sentiment\" INTEGER     \n",
    "            )\"\"\")"
   ]
  },
  {
   "cell_type": "code",
   "execution_count": 10,
   "metadata": {},
   "outputs": [],
   "source": [
    "# GRETEL - GET THESE NAMES FROM THE DATABASE\n",
    "\n",
    "usernames = [\"@JoeBiden\", \"@BernieSanders\", \"@ewarren\", \"@KamalaHarris\"]"
   ]
  },
  {
   "cell_type": "code",
   "execution_count": 11,
   "metadata": {},
   "outputs": [],
   "source": [
    "for username in usernames:\n",
    "\n",
    "    # Import candidate's tweets into a dataframe\n",
    "    twitter_df = pd.read_csv(f\"data/{username}.csv\", error_bad_lines=False)\n",
    "\n",
    "    # Convert date from UTC to EDT\n",
    "    twitter_df[\"tweet_date\"] = twitter_df[\"tweet_date\"].\\\n",
    "        map(lambda x: datetime.strptime(x, '%Y-%m-%d %H:%M:%S') - timedelta(hours=4))\n",
    "\n",
    "    # Delete tweets from more than a week from first tweet\n",
    "    max_date = twitter_df.tweet_date.min() + timedelta(days = 7)\n",
    "    twitter_df = twitter_df[twitter_df[\"tweet_date\"] < max_date]\n",
    "    \n",
    "    # Clean text of tweets using previously defined clean_tweet function\n",
    "    twitter_df[\"tweet\"] = twitter_df[\"tweet\"].map(lambda x: clean_tweet(x, nlp))\n",
    "    \n",
    "    # Apply model to tweet column to get sentiment prediction\n",
    "    twitter_df[\"sentiment\"] = model.predict(twitter_df[\"tweet\"].values.astype(\"U\"))\n",
    "    \n",
    "    # Create username column with candidate's username\n",
    "    twitter_df[\"username\"] = username\n",
    "    \n",
    "    # Create key_id column to work as unique primary key, as a single tweet can apply to multiple candidates\n",
    "    twitter_df[\"id\"] = twitter_df[\"twitter_id\"].map(lambda x: username + str(x))\n",
    "    \n",
    "    # Set index to be id column\n",
    "    twitter_df = twitter_df.set_index(\"id\")\n",
    "    \n",
    "    # Add candidate's tweets to twitter table\n",
    "    twitter_df.to_sql(\"twitter\", conn, if_exists=\"append\") "
   ]
  }
 ],
 "metadata": {
  "kernelspec": {
   "display_name": "Python 3",
   "language": "python",
   "name": "python3"
  },
  "language_info": {
   "codemirror_mode": {
    "name": "ipython",
    "version": 3
   },
   "file_extension": ".py",
   "mimetype": "text/x-python",
   "name": "python",
   "nbconvert_exporter": "python",
   "pygments_lexer": "ipython3",
   "version": "3.7.1"
  }
 },
 "nbformat": 4,
 "nbformat_minor": 2
}
