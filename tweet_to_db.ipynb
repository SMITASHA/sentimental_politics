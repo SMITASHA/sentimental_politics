{
 "cells": [
  {
   "cell_type": "code",
   "execution_count": 43,
   "metadata": {},
   "outputs": [],
   "source": [
    "# Import Dependencies\n",
    "import pandas as pd\n",
    "import numpy as np\n",
    "import re\n",
    "import spacy\n",
    "import sqlite3\n",
    "from spacy.attrs import ORTH, LEMMA, NORM, TAG\n",
    "from datetime import datetime, timedelta\n",
    "from spacy.attrs import ORTH, LEMMA, NORM, TAG\n",
    "from clean import replace_emoticons, clean_text, clean_tweet\n",
    "from joblib import load"
   ]
  },
  {
   "cell_type": "code",
   "execution_count": 100,
   "metadata": {},
   "outputs": [],
   "source": [
    "# Load machine learning prediction model\n",
    "model = load(\"twitter_model.joblib\")"
   ]
  },
  {
   "cell_type": "code",
   "execution_count": 112,
   "metadata": {},
   "outputs": [],
   "source": [
    "username = \"@JoeBiden\""
   ]
  },
  {
   "cell_type": "code",
   "execution_count": null,
   "metadata": {},
   "outputs": [],
   "source": [
    "# Load tweets and apply model"
   ]
  },
  {
   "cell_type": "code",
   "execution_count": null,
   "metadata": {},
   "outputs": [],
   "source": [
    "# Import candidate's tweets into a dataframe\n",
    "twitter_df = pd.read_csv(f\"data/{username}_clean.csv\", error_bad_lines=False)"
   ]
  },
  {
   "cell_type": "code",
   "execution_count": null,
   "metadata": {},
   "outputs": [],
   "source": [
    "twitter_df.head()"
   ]
  },
  {
   "cell_type": "code",
   "execution_count": null,
   "metadata": {},
   "outputs": [],
   "source": [
    "# Predict sentiment based on model and put into new sentiment column\n",
    "twitter_df[\"sentiment\"] = twitter_df[\"tweet\"].map(lambda x: model.predict(x))"
   ]
  },
  {
   "cell_type": "code",
   "execution_count": null,
   "metadata": {},
   "outputs": [],
   "source": [
    "# Create username column with candidate's username\n",
    "twitter_df[\"username\"] = username"
   ]
  },
  {
   "cell_type": "code",
   "execution_count": null,
   "metadata": {},
   "outputs": [],
   "source": [
    "# Set index to be id column\n",
    "twitter_df = twitter_df.set_index('id')"
   ]
  },
  {
   "cell_type": "code",
   "execution_count": null,
   "metadata": {},
   "outputs": [],
   "source": [
    "twitter_df.head()"
   ]
  },
  {
   "cell_type": "code",
   "execution_count": null,
   "metadata": {},
   "outputs": [],
   "source": [
    "# Connect to database and create twitter table\n",
    "conn = sqlite3.connect(\"politics_db.db\")\n",
    "conn.execute(\"\"\"CREATE TABLE \"twitter\" (\n",
    "            \"id\" INTEGER UNIQUE,\n",
    "            \"tweet\" TEXT, \n",
    "            \"tweet_date\" TEXT,\n",
    "            \"retweet\" INTEGER,\n",
    "            \"favorite\" INTEGER,\n",
    "            \"username\" TEXT,\n",
    "            \"sentiment\" INTEGER     \n",
    "            )\"\"\")"
   ]
  },
  {
   "cell_type": "code",
   "execution_count": null,
   "metadata": {},
   "outputs": [],
   "source": [
    "# Add candidate's tweets to twitter table\n",
    "twitter_df.to_sql(\"twitter\", conn, if_exists=\"append\")"
   ]
  }
 ],
 "metadata": {
  "kernelspec": {
   "display_name": "Python 3",
   "language": "python",
   "name": "python3"
  },
  "language_info": {
   "codemirror_mode": {
    "name": "ipython",
    "version": 3
   },
   "file_extension": ".py",
   "mimetype": "text/x-python",
   "name": "python",
   "nbconvert_exporter": "python",
   "pygments_lexer": "ipython3",
   "version": "3.7.1"
  }
 },
 "nbformat": 4,
 "nbformat_minor": 2
}
