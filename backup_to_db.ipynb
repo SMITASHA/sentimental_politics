{
 "cells": [
  {
   "cell_type": "code",
   "execution_count": 35,
   "metadata": {},
   "outputs": [],
   "source": [
    "# Import Dependencies\n",
    "import pandas as pd\n",
    "import re\n",
    "import spacy\n",
    "import json\n",
    "from spacy.attrs import ORTH, LEMMA, NORM, TAG\n",
    "import datetime\n",
    "import sqlite3"
   ]
  },
  {
   "cell_type": "code",
   "execution_count": 38,
   "metadata": {},
   "outputs": [
    {
     "data": {
      "text/plain": [
       "<sqlite3.Cursor at 0x12435d260>"
      ]
     },
     "execution_count": 38,
     "metadata": {},
     "output_type": "execute_result"
    }
   ],
   "source": [
    "# Connect to database and create cursor\n",
    "\n",
    "conn = sqlite3.connect(\"politics_db.db\")\n",
    "c = conn.cursor()\n",
    "\n",
    "# Create tweets table\n",
    "c.execute(\"\"\"CREATE TABLE \"tweets\" (\n",
    "        \"id\" INTEGER UNIQUE,\n",
    "        \"tweet\" TEXT, \n",
    "        \"tweet_date\" TEXT,\n",
    "        \"retweet\" INTEGER,\n",
    "        \"favorite\" INTEGER,\n",
    "        \"candidate\" TEXT,\n",
    "        \"sentiment\" INTEGER     \n",
    "        )\"\"\")\n",
    "\n",
    "\n",
    "# Create candidates table\n",
    "c.execute(\"\"\"CREATE TABLE \"candidates\" (\n",
    "        \"user_name\" TEXT UNIQUE,\n",
    "        \"first_name\" TEXT, \n",
    "        \"last_name\" TEXT           \n",
    "        )\"\"\")"
   ]
  },
  {
   "cell_type": "code",
   "execution_count": 39,
   "metadata": {},
   "outputs": [],
   "source": [
    "def insert_candidate(conn, candidate_data):\n",
    "    \n",
    "    sql = ''' INSERT INTO candidates(user_name, first_name, last_name)\n",
    "              VALUES(?,?,?) '''\n",
    "    \n",
    "    cur = conn.cursor()\n",
    "    cur.execute(sql, candidate_data)\n",
    "    return cur.lastrowid\n",
    "\n",
    "\n",
    "def all_candidate_rows(conn):\n",
    "    \n",
    "    row1 = ('@Biden','Joe','Biden')\n",
    "    row2 = ('@Warren','Elizabeth','Warren')\n",
    "    \n",
    "    Insert_row(conn, row1)\n",
    "    Insert_row(conn, row2)"
   ]
  },
  {
   "cell_type": "code",
   "execution_count": 40,
   "metadata": {},
   "outputs": [],
   "source": [
    "candidate_list = [{\"username\": \"@JoeBiden\", \"first_name\": \"Joe\", \"last_name\": \"Biden\"},\\\n",
    "                  {\"username\": \"@BernieSanders\", \"first_name\": \"Bernie\", \"last_name\": \"Sanders\"},\\\n",
    "                  {\"username\": \"@ewarren\", \"first_name\": \"Elizabeth\", \"last_name\": \"Warren\"},\\\n",
    "                  {\"username\": \"@KamalaHarris\", \"first_name\": \"Kamala\", \"last_name\": \"Harris\"}]\n"
   ]
  },
  {
   "cell_type": "code",
   "execution_count": 41,
   "metadata": {},
   "outputs": [],
   "source": [
    "for candidate_dict in candidate_list:\n",
    "    insert_candidate(conn, list(candidate_dict.values()))\n",
    "conn.commit()"
   ]
  },
  {
   "cell_type": "code",
   "execution_count": 14,
   "metadata": {},
   "outputs": [],
   "source": [
    "twitter_df[\"candidate\"]=\"@Biden\"\n",
    "twitter_df[\"sentiment\"]=\"\""
   ]
  },
  {
   "cell_type": "code",
   "execution_count": 15,
   "metadata": {},
   "outputs": [
    {
     "data": {
      "text/html": [
       "<div>\n",
       "<style scoped>\n",
       "    .dataframe tbody tr th:only-of-type {\n",
       "        vertical-align: middle;\n",
       "    }\n",
       "\n",
       "    .dataframe tbody tr th {\n",
       "        vertical-align: top;\n",
       "    }\n",
       "\n",
       "    .dataframe thead th {\n",
       "        text-align: right;\n",
       "    }\n",
       "</style>\n",
       "<table border=\"1\" class=\"dataframe\">\n",
       "  <thead>\n",
       "    <tr style=\"text-align: right;\">\n",
       "      <th></th>\n",
       "      <th>tweet_date</th>\n",
       "      <th>favorite</th>\n",
       "      <th>retweet</th>\n",
       "      <th>tweet</th>\n",
       "      <th>candidate</th>\n",
       "      <th>sentiment</th>\n",
       "    </tr>\n",
       "    <tr>\n",
       "      <th>id</th>\n",
       "      <th></th>\n",
       "      <th></th>\n",
       "      <th></th>\n",
       "      <th></th>\n",
       "      <th></th>\n",
       "      <th></th>\n",
       "    </tr>\n",
       "  </thead>\n",
       "  <tbody>\n",
       "    <tr>\n",
       "      <th>1156555255473160194</th>\n",
       "      <td>2019-07-31 09:20:35</td>\n",
       "      <td>0</td>\n",
       "      <td>0</td>\n",
       "      <td>not like point not like i want to make look st...</td>\n",
       "      <td>@Biden</td>\n",
       "      <td></td>\n",
       "    </tr>\n",
       "    <tr>\n",
       "      <th>1156555245700468742</th>\n",
       "      <td>2019-07-31 09:20:32</td>\n",
       "      <td>0</td>\n",
       "      <td>0</td>\n",
       "      <td>disingenuous medicareforall joe</td>\n",
       "      <td>@Biden</td>\n",
       "      <td></td>\n",
       "    </tr>\n",
       "    <tr>\n",
       "      <th>1156555221054758912</th>\n",
       "      <td>2019-07-31 09:20:27</td>\n",
       "      <td>0</td>\n",
       "      <td>0</td>\n",
       "      <td>tonight need not to attack but turn answer to ...</td>\n",
       "      <td>@Biden</td>\n",
       "      <td></td>\n",
       "    </tr>\n",
       "    <tr>\n",
       "      <th>1156555213710471168</th>\n",
       "      <td>2019-07-31 09:20:25</td>\n",
       "      <td>0</td>\n",
       "      <td>0</td>\n",
       "      <td>look logo national twin day be offer instead l...</td>\n",
       "      <td>@Biden</td>\n",
       "      <td></td>\n",
       "    </tr>\n",
       "    <tr>\n",
       "      <th>1156555183385694209</th>\n",
       "      <td>2019-07-31 09:20:18</td>\n",
       "      <td>0</td>\n",
       "      <td>0</td>\n",
       "      <td>trump refuse to help country people be flee pr...</td>\n",
       "      <td>@Biden</td>\n",
       "      <td></td>\n",
       "    </tr>\n",
       "  </tbody>\n",
       "</table>\n",
       "</div>"
      ],
      "text/plain": [
       "                             tweet_date  favorite  retweet  \\\n",
       "id                                                           \n",
       "1156555255473160194 2019-07-31 09:20:35         0        0   \n",
       "1156555245700468742 2019-07-31 09:20:32         0        0   \n",
       "1156555221054758912 2019-07-31 09:20:27         0        0   \n",
       "1156555213710471168 2019-07-31 09:20:25         0        0   \n",
       "1156555183385694209 2019-07-31 09:20:18         0        0   \n",
       "\n",
       "                                                                 tweet  \\\n",
       "id                                                                       \n",
       "1156555255473160194  not like point not like i want to make look st...   \n",
       "1156555245700468742                    disingenuous medicareforall joe   \n",
       "1156555221054758912  tonight need not to attack but turn answer to ...   \n",
       "1156555213710471168  look logo national twin day be offer instead l...   \n",
       "1156555183385694209  trump refuse to help country people be flee pr...   \n",
       "\n",
       "                    candidate sentiment  \n",
       "id                                       \n",
       "1156555255473160194    @Biden            \n",
       "1156555245700468742    @Biden            \n",
       "1156555221054758912    @Biden            \n",
       "1156555213710471168    @Biden            \n",
       "1156555183385694209    @Biden            "
      ]
     },
     "execution_count": 15,
     "metadata": {},
     "output_type": "execute_result"
    }
   ],
   "source": [
    "\n",
    "twitter_df=twitter_df.set_index('id')\n",
    "twitter_df.head()"
   ]
  },
  {
   "cell_type": "code",
   "execution_count": 16,
   "metadata": {},
   "outputs": [
    {
     "data": {
      "text/html": [
       "<div>\n",
       "<style scoped>\n",
       "    .dataframe tbody tr th:only-of-type {\n",
       "        vertical-align: middle;\n",
       "    }\n",
       "\n",
       "    .dataframe tbody tr th {\n",
       "        vertical-align: top;\n",
       "    }\n",
       "\n",
       "    .dataframe thead th {\n",
       "        text-align: right;\n",
       "    }\n",
       "</style>\n",
       "<table border=\"1\" class=\"dataframe\">\n",
       "  <thead>\n",
       "    <tr style=\"text-align: right;\">\n",
       "      <th></th>\n",
       "      <th>tweet_date</th>\n",
       "      <th>favorite</th>\n",
       "      <th>retweet</th>\n",
       "      <th>tweet</th>\n",
       "      <th>candidate</th>\n",
       "      <th>sentiment</th>\n",
       "    </tr>\n",
       "    <tr>\n",
       "      <th>id</th>\n",
       "      <th></th>\n",
       "      <th></th>\n",
       "      <th></th>\n",
       "      <th></th>\n",
       "      <th></th>\n",
       "      <th></th>\n",
       "    </tr>\n",
       "  </thead>\n",
       "  <tbody>\n",
       "    <tr>\n",
       "      <th>1156555255473160194</th>\n",
       "      <td>2019-07-31 09:20:35</td>\n",
       "      <td>0</td>\n",
       "      <td>0</td>\n",
       "      <td>not like point not like i want to make look st...</td>\n",
       "      <td>@Biden</td>\n",
       "      <td></td>\n",
       "    </tr>\n",
       "    <tr>\n",
       "      <th>1156555245700468742</th>\n",
       "      <td>2019-07-31 09:20:32</td>\n",
       "      <td>0</td>\n",
       "      <td>0</td>\n",
       "      <td>disingenuous medicareforall joe</td>\n",
       "      <td>@Biden</td>\n",
       "      <td></td>\n",
       "    </tr>\n",
       "    <tr>\n",
       "      <th>1156555221054758912</th>\n",
       "      <td>2019-07-31 09:20:27</td>\n",
       "      <td>0</td>\n",
       "      <td>0</td>\n",
       "      <td>tonight need not to attack but turn answer to ...</td>\n",
       "      <td>@Biden</td>\n",
       "      <td></td>\n",
       "    </tr>\n",
       "    <tr>\n",
       "      <th>1156555213710471168</th>\n",
       "      <td>2019-07-31 09:20:25</td>\n",
       "      <td>0</td>\n",
       "      <td>0</td>\n",
       "      <td>look logo national twin day be offer instead l...</td>\n",
       "      <td>@Biden</td>\n",
       "      <td></td>\n",
       "    </tr>\n",
       "    <tr>\n",
       "      <th>1156555183385694209</th>\n",
       "      <td>2019-07-31 09:20:18</td>\n",
       "      <td>0</td>\n",
       "      <td>0</td>\n",
       "      <td>trump refuse to help country people be flee pr...</td>\n",
       "      <td>@Biden</td>\n",
       "      <td></td>\n",
       "    </tr>\n",
       "  </tbody>\n",
       "</table>\n",
       "</div>"
      ],
      "text/plain": [
       "                             tweet_date  favorite  retweet  \\\n",
       "id                                                           \n",
       "1156555255473160194 2019-07-31 09:20:35         0        0   \n",
       "1156555245700468742 2019-07-31 09:20:32         0        0   \n",
       "1156555221054758912 2019-07-31 09:20:27         0        0   \n",
       "1156555213710471168 2019-07-31 09:20:25         0        0   \n",
       "1156555183385694209 2019-07-31 09:20:18         0        0   \n",
       "\n",
       "                                                                 tweet  \\\n",
       "id                                                                       \n",
       "1156555255473160194  not like point not like i want to make look st...   \n",
       "1156555245700468742                    disingenuous medicareforall joe   \n",
       "1156555221054758912  tonight need not to attack but turn answer to ...   \n",
       "1156555213710471168  look logo national twin day be offer instead l...   \n",
       "1156555183385694209  trump refuse to help country people be flee pr...   \n",
       "\n",
       "                    candidate sentiment  \n",
       "id                                       \n",
       "1156555255473160194    @Biden            \n",
       "1156555245700468742    @Biden            \n",
       "1156555221054758912    @Biden            \n",
       "1156555213710471168    @Biden            \n",
       "1156555183385694209    @Biden            "
      ]
     },
     "execution_count": 16,
     "metadata": {},
     "output_type": "execute_result"
    }
   ],
   "source": [
    "twitter_df.head()"
   ]
  },
  {
   "cell_type": "code",
   "execution_count": 17,
   "metadata": {},
   "outputs": [],
   "source": [
    "twitter_df.to_sql(\"twitter\", conn, if_exists=\"append\")\n"
   ]
  },
  {
   "cell_type": "code",
   "execution_count": 18,
   "metadata": {},
   "outputs": [],
   "source": [
    "# table = sql.read_frame('select * from twitter', con)\n",
    "# table.to_csv('date/test.csv')"
   ]
  },
  {
   "cell_type": "code",
   "execution_count": 19,
   "metadata": {},
   "outputs": [],
   "source": [
    "# data = conn.execute(\"SELECT * FROM twitter\").fetchall()"
   ]
  },
  {
   "cell_type": "code",
   "execution_count": 20,
   "metadata": {},
   "outputs": [],
   "source": [
    "# data()"
   ]
  }
 ],
 "metadata": {
  "kernelspec": {
   "display_name": "Python 3",
   "language": "python",
   "name": "python3"
  },
  "language_info": {
   "codemirror_mode": {
    "name": "ipython",
    "version": 3
   },
   "file_extension": ".py",
   "mimetype": "text/x-python",
   "name": "python",
   "nbconvert_exporter": "python",
   "pygments_lexer": "ipython3",
   "version": "3.7.1"
  }
 },
 "nbformat": 4,
 "nbformat_minor": 2
}
