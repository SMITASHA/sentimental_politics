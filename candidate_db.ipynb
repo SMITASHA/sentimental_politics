{
 "cells": [
  {
   "cell_type": "code",
   "execution_count": 1,
   "metadata": {},
   "outputs": [],
   "source": [
    "# Import Dependencies\n",
    "import sqlite3"
   ]
  },
  {
   "cell_type": "code",
   "execution_count": 3,
   "metadata": {},
   "outputs": [
    {
     "data": {
      "text/plain": [
       "<sqlite3.Cursor at 0x1029c6570>"
      ]
     },
     "execution_count": 3,
     "metadata": {},
     "output_type": "execute_result"
    }
   ],
   "source": [
    "# Connect to database and create cursor\n",
    "\n",
    "conn = sqlite3.connect(\"politics_db.db\")\n",
    "\n",
    "# Create candidates table\n",
    "conn.execute(\"\"\"CREATE TABLE \"candidates\" (\n",
    "        \"user_name\" TEXT UNIQUE,\n",
    "        \"first_name\" TEXT, \n",
    "        \"last_name\" TEXT           \n",
    "        )\"\"\")"
   ]
  },
  {
   "cell_type": "code",
   "execution_count": 4,
   "metadata": {},
   "outputs": [],
   "source": [
    "def insert_candidate(conn, candidate_data):\n",
    "    \n",
    "    sql = ''' INSERT INTO candidates(user_name, first_name, last_name)\n",
    "              VALUES(?,?,?) '''\n",
    "    \n",
    "    cur = conn.cursor()\n",
    "    cur.execute(sql, candidate_data)\n",
    "    return cur.lastrowid"
   ]
  },
  {
   "cell_type": "code",
   "execution_count": 5,
   "metadata": {},
   "outputs": [],
   "source": [
    "# Create list of candidate dictionaries\n",
    "candidate_list = [{\"username\": \"@JoeBiden\", \"first_name\": \"Joe\", \"last_name\": \"Biden\"},\\\n",
    "                  {\"username\": \"@BernieSanders\", \"first_name\": \"Bernie\", \"last_name\": \"Sanders\"},\\\n",
    "                  {\"username\": \"@ewarren\", \"first_name\": \"Elizabeth\", \"last_name\": \"Warren\"},\\\n",
    "                  {\"username\": \"@KamalaHarris\", \"first_name\": \"Kamala\", \"last_name\": \"Harris\"}]"
   ]
  },
  {
   "cell_type": "code",
   "execution_count": 6,
   "metadata": {},
   "outputs": [],
   "source": [
    "# Insert candidates into candidate table\n",
    "for candidate_dict in candidate_list:\n",
    "    insert_candidate(conn, list(candidate_dict.values()))\n",
    "conn.commit()"
   ]
  },
  {
   "cell_type": "code",
   "execution_count": null,
   "metadata": {},
   "outputs": [],
   "source": []
  }
 ],
 "metadata": {
  "kernelspec": {
   "display_name": "Python 3",
   "language": "python",
   "name": "python3"
  },
  "language_info": {
   "codemirror_mode": {
    "name": "ipython",
    "version": 3
   },
   "file_extension": ".py",
   "mimetype": "text/x-python",
   "name": "python",
   "nbconvert_exporter": "python",
   "pygments_lexer": "ipython3",
   "version": "3.7.1"
  }
 },
 "nbformat": 4,
 "nbformat_minor": 2
}
