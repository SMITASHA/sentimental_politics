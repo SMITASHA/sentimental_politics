{
 "cells": [
  {
   "cell_type": "markdown",
   "metadata": {},
   "source": [
    "# Authenticate Python Script"
   ]
  },
  {
   "cell_type": "code",
   "execution_count": 2,
   "metadata": {},
   "outputs": [],
   "source": [
    "# Import dependencies\n",
    "import twitter"
   ]
  },
  {
   "cell_type": "code",
   "execution_count": 3,
   "metadata": {},
   "outputs": [],
   "source": [
    "from api_keys import API_key, secret_key, access_token, secret_token"
   ]
  },
  {
   "cell_type": "code",
   "execution_count": 4,
   "metadata": {},
   "outputs": [],
   "source": [
    "twitter_api = twitter.Api(consumer_key = API_key, \\\n",
    "                          consumer_secret = secret_key, \\\n",
    "                          access_token_key = access_token, \\\n",
    "                          access_token_secret = secret_token)"
   ]
  },
  {
   "cell_type": "code",
   "execution_count": 5,
   "metadata": {},
   "outputs": [
    {
     "name": "stdout",
     "output_type": "stream",
     "text": [
      "{\"created_at\": \"Mon Jul 29 12:28:30 +0000 2019\", \"default_profile\": true, \"description\": \"Unrepentant Geek\", \"followers_count\": 1, \"id\": 1155817374173605890, \"id_str\": \"1155817374173605890\", \"name\": \"Gretel Uptegrove\", \"profile_background_color\": \"F5F8FA\", \"profile_image_url\": \"http://pbs.twimg.com/profile_images/1155817528570142721/iZODB5wy_normal.jpg\", \"profile_image_url_https\": \"https://pbs.twimg.com/profile_images/1155817528570142721/iZODB5wy_normal.jpg\", \"profile_link_color\": \"1DA1F2\", \"profile_sidebar_border_color\": \"C0DEED\", \"profile_sidebar_fill_color\": \"DDEEF6\", \"profile_text_color\": \"333333\", \"profile_use_background_image\": true, \"screen_name\": \"GretelUptegrove\"}\n"
     ]
    }
   ],
   "source": [
    "print(twitter_api.VerifyCredentials())"
   ]
  },
  {
   "cell_type": "code",
   "execution_count": 6,
   "metadata": {},
   "outputs": [
    {
     "data": {
      "text/plain": [
       "[Status(ID=1155332968648495104, ScreenName=Alyssa_Milano, Created=Sun Jul 28 04:23:39 +0000 2019, Text=\"Hmmmm...is this why Trump keeps tweeting about Baltimore?\\n\\nJared Kushner's Family Company Faces More Than 170 Balti… https://t.co/vUzcE3ERXD\"),\n",
       " Status(ID=1155295377064677379, ScreenName=StephenKing, Created=Sun Jul 28 01:54:16 +0000 2019, Text=\"Disgusting and rat-infested: That would be Donald Trump's brain.\"),\n",
       " Status(ID=1155271446207389696, ScreenName=Comey, Created=Sun Jul 28 00:19:11 +0000 2019, Text='Millions of 2016 Trump voters are not racists.  Now those Americans need the strength of character to resolve they… https://t.co/0xWClmRUq7'),\n",
       " Status(ID=1155833808664449025, ScreenName=497362, Created=Mon Jul 29 13:33:48 +0000 2019, Text='@jimsciutto #trump didnt mention the 1400 arrested protesters because he just dont care about #Idaho.'),\n",
       " Status(ID=1155833808622669824, ScreenName=Ethanoljesus, Created=Mon Jul 29 13:33:48 +0000 2019, Text=\"RT @BernieSanders: Trump's lies and racism never end. \\n\\nWhile I have been fighting to lift the people of Baltimore and elsewhere out of pov…\"),\n",
       " Status(ID=1155833808614068224, ScreenName=Castterry, Created=Mon Jul 29 13:33:48 +0000 2019, Text='RT @RepRatcliffe: President Trump’s call to serve in this role was not one I could ignore, and I am incredibly thankful to him for this gre…'),\n",
       " Status(ID=1155833808492683264, ScreenName=581_724bb, Created=Mon Jul 29 13:33:48 +0000 2019, Text='RT @funder: Trump is a traitor. Retweet if you agree. Mueller’s testimony made that clear. Trump’s the biggest traitor ever. McConnell’s a…'),\n",
       " Status(ID=1155833808404516864, ScreenName=dhannah412, Created=Mon Jul 29 13:33:48 +0000 2019, Text='@kylegriffin1 Trump doesn’t read-more BS!!!!!!!'),\n",
       " Status(ID=1155833808224169984, ScreenName=tomgreene2, Created=Mon Jul 29 13:33:48 +0000 2019, Text='RT @MAShow995: Baltimore Rat Infestation Is So Bad They Made A Documentary About It 2 Years Ago\\n\\n https://t.co/4Adi6nk5kc'),\n",
       " Status(ID=1155833808123568128, ScreenName=ReahClark1, Created=Mon Jul 29 13:33:48 +0000 2019, Text='RT @thehill: Pete Buttigieg speaks in Detroit: \"We\\'ve got to ask ourselves how you get a President like this one in first place. Because so…'),\n",
       " Status(ID=1155833808043859969, ScreenName=Patriot_Nurse, Created=Mon Jul 29 13:33:48 +0000 2019, Text='RT @TweakTheTweets: @marklutchman I believe Trump is a better President then Reagan.  Both believed in God but I remember Reagan specifical…'),\n",
       " Status(ID=1155833807762853894, ScreenName=TurnKansasBlue, Created=Mon Jul 29 13:33:48 +0000 2019, Text='RT @politvidchannel: BREAKING: Baltimore Co. Executive John Olszewski Jr Great response to Trump Attack \\n\\n\"It is certainly ironic that the…'),\n",
       " Status(ID=1155833807553085443, ScreenName=LissaLou62, Created=Mon Jul 29 13:33:48 +0000 2019, Text='RT @TrumpsAlways: 🚨🚨🚨\\n\\n#Antifa Is A Huge Group Of Leftist Cowards. \\nWhom Work\\nFor Their #Leftist Coward Candidates\\nRunning As \\n#Democrats…'),\n",
       " Status(ID=1155833807502626816, ScreenName=objkshn, Created=Mon Jul 29 13:33:48 +0000 2019, Text='RT @thehill: Sen. Elizabeth Warren: \"Donald Trump once again is a racist who makes ever more outrageous racist remarks. It is insulting, bo…'),\n",
       " Status(ID=1155833807347617793, ScreenName=carol_mahabir, Created=Mon Jul 29 13:33:48 +0000 2019, Text='RT @ThePlumLineGS: Now that Trump is attacking another nonwhite lawmaker,  recall that Newt Gingrich just gave away the game, admitting Tru…'),\n",
       " Status(ID=1155833807276318720, ScreenName=tundetecla, Created=Mon Jul 29 13:33:48 +0000 2019, Text='RT @_ElFaro_: #Centroamérica | Guatemala se convierte en un nuevo cómplice, junto México, de la estrategia contra el asilo de migrantes cen…'),\n",
       " Status(ID=1155833807276249091, ScreenName=Manach_38, Created=Mon Jul 29 13:33:48 +0000 2019, Text=\"Trump: you shouldn't just call people racist for pointing out problems in the country\\n\\nAlso Trump: Al Sharpton hate… https://t.co/JksPBtST2J\"),\n",
       " Status(ID=1155833807003639808, ScreenName=KatTrono, Created=Mon Jul 29 13:33:48 +0000 2019, Text='@realDonaldTrump More lies from the off the wall dictator-wannabe fascist criminal trump.  \\nFake tv ores.\\nFake business man.\\nReal sh*t'),\n",
       " Status(ID=1155833806974271488, ScreenName=HallStyle, Created=Mon Jul 29 13:33:48 +0000 2019, Text=\"@malcolmshabazz6 @CharlesMBlow That's what has been bothering me about this entire Trump Presidency.. People CONSTA… https://t.co/UyJTJRbalW\"),\n",
       " Status(ID=1155833806944968706, ScreenName=KazadiEmmanuel, Created=Mon Jul 29 13:33:48 +0000 2019, Text='RT @willchamberlain: @JohnBrennan John Ratcliffe is a former US attorney and a 3-term Congressman. To call him a \"servile Trump loyalist\" d…'),\n",
       " Status(ID=1155833806915612673, ScreenName=Dohertybastard, Created=Mon Jul 29 13:33:48 +0000 2019, Text='RT @JohnBrennan: Dan Coats served ably &amp; with deep integrity. Ratcliffe showed abject subservience to Trump in Mueller hearings. The women…'),\n",
       " Status(ID=1155833806819155969, ScreenName=CatTassinari, Created=Mon Jul 29 13:33:48 +0000 2019, Text='RT @dhershiser: Dear @MSNBC @CNN @ABC @CBSNews @NBCNews Please stop talking about what Trump says or tweets and start talking about the iss…'),\n",
       " Status(ID=1155833806764425216, ScreenName=Pam58622393, Created=Mon Jul 29 13:33:48 +0000 2019, Text='RT @charliekirk11: President Trump has done more for the black community in two years of being President than Al Sharpton and Elijah Cummin…'),\n",
       " Status(ID=1155833806634590208, ScreenName=franmary, Created=Mon Jul 29 13:33:48 +0000 2019, Text='RT @charliekirk11: President Trump has done more for the black community in two years of being President than Al Sharpton and Elijah Cummin…'),\n",
       " Status(ID=1155833806605078528, ScreenName=BarbaraGemini, Created=Mon Jul 29 13:33:48 +0000 2019, Text='RT @YahooNews: TRUMP to his critics, in a fundraising letter from his 2020 campaign: \"How many times do I have to be exonerated before they…'),\n",
       " Status(ID=1155833806512934912, ScreenName=sticks_n_stonez, Created=Mon Jul 29 13:33:48 +0000 2019, Text='RT @TheDemCoalition: \"High-ranking Democrats are starting to suggest that, rather than indulge Trump in his Twitter rants, the media and hi…'),\n",
       " Status(ID=1155833806412288000, ScreenName=SusanHoven, Created=Mon Jul 29 13:33:48 +0000 2019, Text='RT @bigasatree: I can not abide a trump supporter anymore. My family is full of them and I no longer associate with them. You have to take…'),\n",
       " Status(ID=1155833806366171143, ScreenName=cagney1991, Created=Mon Jul 29 13:33:48 +0000 2019, Text='RT @Morning_Joe: \"Donald trump is upset because Congressman Cummings is everything that Donald Trump is not. He is calm; he is smart; he is…'),\n",
       " Status(ID=1155833806315761667, ScreenName=StevenMovit, Created=Mon Jul 29 13:33:48 +0000 2019, Text='RT @tillmantweets: Riddle me this, Elijah Cummings, Al Sharpton &amp; Democrat Race baiters\\nWhat is the one commonality these cities with highe…'),\n",
       " Status(ID=1155833806240321536, ScreenName=mabengry, Created=Mon Jul 29 13:33:48 +0000 2019, Text='RT @415holgate: Nov 2016\\nComputer scientists say they have strong evidence election was rigged against Clinton in three key states https://…'),\n",
       " Status(ID=1155833806206599168, ScreenName=Elizabe45314738, Created=Mon Jul 29 13:33:48 +0000 2019, Text='RT @catturd2: It’s time for the African American community to join the MAGA community to fight against the illegal invasion of this country…'),\n",
       " Status(ID=1155833806127017984, ScreenName=NashDaDog, Created=Mon Jul 29 13:33:48 +0000 2019, Text='RT @jdmaccoby: TRUMP: If you criticize America you should leave forever\\n\\nGOP: yeah don’t you dare criticize America!\\n\\nTRUMP: anyway here’s…'),\n",
       " Status(ID=1155833806097670144, ScreenName=BBD_Earp, Created=Mon Jul 29 13:33:48 +0000 2019, Text='RT @BFriedmanDC: Trump on cities\\n\\nAtlanta: \"falling apart\"\\n\\nBaltimore: \"a filthy place\"\\n\\nChicago: \"totally out of control\"\\n\\nPhiladelphia: \"…'),\n",
       " Status(ID=1155833806043176960, ScreenName=2cowboys4u, Created=Mon Jul 29 13:33:48 +0000 2019, Text='RT @PolitiBunny: ‘Please CHECK yourself’: FAILED Dem candidate Pam Keith claims ALL Trump supporters are racist, gets OWNED by Sharyl Attki…'),\n",
       " Status(ID=1155833806009634816, ScreenName=christiancooper, Created=Mon Jul 29 13:33:48 +0000 2019, Text='RT @AmericanMystic: Trump is consolidating his personal  control over the intelligence community. Between loyalists Barr and Radcliffe, and…'),\n",
       " Status(ID=1155833806001250304, ScreenName=lorettaslaught1, Created=Mon Jul 29 13:33:48 +0000 2019, Text=\"RT @shellywilliams0: @mitchellvii @SpeakerPelosi Please stop calling Trump a president. He doesn't deserve the title. More like Russian Ass…\"),\n",
       " Status(ID=1155833805778800641, ScreenName=stefame1, Created=Mon Jul 29 13:33:48 +0000 2019, Text=\"RT @GranniesOpinion: I have made a decision to block Trump's tweets. I refused to listen to his racist comments. I wonder if everyone block…\"),\n",
       " Status(ID=1155833805736947713, ScreenName=AntoineBrion, Created=Mon Jul 29 13:33:48 +0000 2019, Text='RT @hrenee80: I simply don’t care who thinks I’m a racist. \\nI simply don’t care who is racist against me.\\nI will not be white guilt shamed…'),\n",
       " Status(ID=1155833805560635393, ScreenName=mikeaao, Created=Mon Jul 29 13:33:48 +0000 2019, Text='RT @supitsshekinah: It’s ok to be white. \\nIt’s ok to be a black conservative.\\nIt’s ok to be a Trump supporter \\nIt’s ok to be Christian. \\nIt…'),\n",
       " Status(ID=1155833805481156608, ScreenName=DebraBuenik, Created=Mon Jul 29 13:33:48 +0000 2019, Text='RT @thebradfordfile: Democrats have spent three years calling President Trump a racist, traitorous, white supremacist dictator who hates wo…'),\n",
       " Status(ID=1155833805418242048, ScreenName=Gluonsrule, Created=Mon Jul 29 13:33:48 +0000 2019, Text=\"RT @BreeNewsome: Trump's racist tirades on and off Twitter are not a distraction. He's using the platform &amp; power of the US presidency to s…\"),\n",
       " Status(ID=1155833805388832771, ScreenName=CareyGrandma, Created=Mon Jul 29 13:33:48 +0000 2019, Text='RT @lacerci65: Cortez Claims Border Agents Were “Sexualy Threatening” Her\\n#pathetic creature\\nhttps://t.co/9MOI10Xd1P'),\n",
       " Status(ID=1155833805309194240, ScreenName=janet_yackle, Created=Mon Jul 29 13:33:48 +0000 2019, Text='RT @joesabin: I have argued this a long time, how Democrats will win as moderately progressive: \"...swing districts didn’t talk much about…'),\n",
       " Status(ID=1155833805250453504, ScreenName=VickieZisman, Created=Mon Jul 29 13:33:48 +0000 2019, Text=\"@COLRICHARDKEMP Alliance with Russia abd China is a smart move for UK, especially now. Don't worry, US won't be cro… https://t.co/EiYRRygFZE\"),\n",
       " Status(ID=1155833805229502466, ScreenName=ScottC07691268, Created=Mon Jul 29 13:33:48 +0000 2019, Text='@TrumpWarRoom @dbongino Trump knew he would get attacked by the same people who used ther exact same rhetoric. He exposed the hypocrites.'),\n",
       " Status(ID=1155833805027983361, ScreenName=FalknerHayden, Created=Mon Jul 29 13:33:48 +0000 2019, Text='RT @funder: Mueller’s testimony was the most damning testimony against a president in American history. Retweet if you agree. This whole “M…'),\n",
       " Status(ID=1155833804982038529, ScreenName=edusanchez19us, Created=Mon Jul 29 13:33:48 +0000 2019, Text='RT @jimsciutto: President Trump has repeatedly assailed conditions in Baltimore. He has not once mentioned the brutal police crackdown in M…'),\n",
       " Status(ID=1155833804977606661, ScreenName=jenningsghv2, Created=Mon Jul 29 13:33:48 +0000 2019, Text=\"RT @brianklaas: 1. Let's talk about the racist British bigots that Donald Trump retweets. He has retweeted Katie Hopkins, who called for a…\"),\n",
       " Status(ID=1155833804898078721, ScreenName=nanelvisfan, Created=Mon Jul 29 13:33:48 +0000 2019, Text=\"RT @ImpeachmentHour: U.S. ECONOMY SLIPS FROM FIRST TO THIRD PLACE IN GLOBAL COMPETITIVENESS RANKING AMID TRUMP'S TARIFFS\\nhttps://t.co/hrngu…\"),\n",
       " Status(ID=1155833804835172352, ScreenName=carbonneau_mary, Created=Mon Jul 29 13:33:48 +0000 2019, Text=\"RT @BillKristol: Reminder: What provoked Trump's attacks on Cummings? New facts about crime or poverty in Baltimore? Nope. It was that Cumm…\"),\n",
       " Status(ID=1155833804814278663, ScreenName=ted06244154, Created=Mon Jul 29 13:33:48 +0000 2019, Text='RT @ZionistGirl18: @SebGorka @AlexMarlow @BreitbartNews The Democrat Echo Chamber keeps saying:\\n\"No one is above the law\"\\nAre they filming…'),\n",
       " Status(ID=1155833804667412480, ScreenName=AlissaBentley, Created=Mon Jul 29 13:33:48 +0000 2019, Text='RT @TheRevAl: Trump says I’m a troublemaker &amp; con man. I do make trouble for bigots. If he really thought I was a con man he would want me…'),\n",
       " Status(ID=1155833804617109504, ScreenName=joansienk167, Created=Mon Jul 29 13:33:48 +0000 2019, Text='RT @funder: Mueller’s testimony was the most damning testimony against a president in American history. Retweet if you agree. This whole “M…'),\n",
       " Status(ID=1155833804554027014, ScreenName=kaybird12, Created=Mon Jul 29 13:33:48 +0000 2019, Text='RT @hrenee80: I simply don’t care who thinks I’m a racist. \\nI simply don’t care who is racist against me.\\nI will not be white guilt shamed…'),\n",
       " Status(ID=1155833804415741952, ScreenName=Earlexus, Created=Mon Jul 29 13:33:47 +0000 2019, Text='RT @iamwandasykes: If you’re a Trump supporter and not a racist, you should find this upsetting.  If it doesn’t upset you, then you’ve just…'),\n",
       " Status(ID=1155833804373876737, ScreenName=jo_lutman, Created=Mon Jul 29 13:33:47 +0000 2019, Text='RT @BetteMidler: In response to Dems threats to begin impeachment proceedings, Trump says, “These people are clowns.” That’s rich coming fr…'),\n",
       " Status(ID=1155833804315082752, ScreenName=NikkiLove504, Created=Mon Jul 29 13:33:47 +0000 2019, Text='@PamKeithFL Every Democrat is racist, how does that feel? We know some of y’all are bc their true colors have been… https://t.co/YUVOOfdS8H'),\n",
       " Status(ID=1155833804310773760, ScreenName=ben_rainh2o, Created=Mon Jul 29 13:33:47 +0000 2019, Text='@PreetBharara We saw what J. Steward did to M. McConnell. We saw what a few Puerto Ricans accomplished. Where are o… https://t.co/S7x0KUUGVI'),\n",
       " Status(ID=1155833804256415745, ScreenName=CrashRocket1, Created=Mon Jul 29 13:33:47 +0000 2019, Text='RT @mitchellvii: Either President Trump is the greatest strategic genius in US political history, or he is the luckiest man alive. Even whe…'),\n",
       " Status(ID=1155833804176658433, ScreenName=a61688, Created=Mon Jul 29 13:33:47 +0000 2019, Text=\"RT @MattGertz: Fox &amp; Friends has been playing the Bernie Sanders video all morning in a bad-faith comparison with the president's tweets, m…\"),\n",
       " Status(ID=1155833804063420416, ScreenName=midagro, Created=Mon Jul 29 13:33:47 +0000 2019, Text='RT @Eire353: HURRY!\\nTrump impeachment looms as committee chief says ‘we have to do this’ - follow live https://t.co/3UVPsrIsre'),\n",
       " Status(ID=1155833803874680838, ScreenName=PERCYYOUNG9, Created=Mon Jul 29 13:33:47 +0000 2019, Text=\"@RepCummings Keep your head up and do your job, dont respond to trump's tweets. Just annoy him, he's a big joke and… https://t.co/LTV3K01itT\"),\n",
       " Status(ID=1155833803824406528, ScreenName=ScholtensPj, Created=Mon Jul 29 13:33:47 +0000 2019, Text='RT @TheRevAl: Trump says I’m a troublemaker &amp; con man. I do make trouble for bigots. If he really thought I was a con man he would want me…'),\n",
       " Status(ID=1155833803593662465, ScreenName=Sevenmilegoku, Created=Mon Jul 29 13:33:47 +0000 2019, Text='RT @eugenegu: @realDonaldTrump Trump calling someone else a con man is peak 2019 irony. Trump is such a con man he cheats his own head out…'),\n",
       " Status(ID=1155833803404955648, ScreenName=CountryOverPar5, Created=Mon Jul 29 13:33:47 +0000 2019, Text=\"RT @KenidraRWoods_: If you're a white person against racism, retweet this. Let's show Trump what unity looks like. Love not hate. #WhitePeo…\"),\n",
       " Status(ID=1155833803170074625, ScreenName=are_usa, Created=Mon Jul 29 13:33:47 +0000 2019, Text='RT @funder: Trump obstructed justice. Retweet if you agree. He abused his power and should be fired for it. #WeBelieveMueller'),\n",
       " Status(ID=1155833803123957760, ScreenName=mariatihui, Created=Mon Jul 29 13:33:47 +0000 2019, Text='RT @acnewsitics: Obama = still loved and respected all over the world\\n\\nTrump = greeted with a diaper balloon wherever he goes\\n\\n#TrumpIsARat'),\n",
       " Status(ID=1155833802960191489, ScreenName=SchumeMae, Created=Mon Jul 29 13:33:47 +0000 2019, Text='RT @som3thingwicked: Donald Trump presents... REAL STABLE GENIUS 🧠 Today we salute YOU...\\n\\nMr. Fake News Media Reporter\\n\\n\"Pay attention to…'),\n",
       " Status(ID=1155833802876436487, ScreenName=jcbarnes62, Created=Mon Jul 29 13:33:47 +0000 2019, Text='RT @TrueFactsStated: Our Apologies. Thanks to @realDonaldTrump &amp; @DonaldJTrumpJr we sold 100s of F Trump mugs resulting in selling out...an…'),\n",
       " Status(ID=1155833802838675458, ScreenName=kvilleredeos, Created=Mon Jul 29 13:33:47 +0000 2019, Text='RT @LarrySchweikart: @realDonaldTrump 10) I have been consistent in saying that the black/Hispanic approval # would NOT translate into a on…'),\n",
       " Status(ID=1155833802414931974, ScreenName=TheColorado_Kid, Created=Mon Jul 29 13:33:47 +0000 2019, Text='You just trying to get people to blame Trump for calling you out https://t.co/u2uUSQyJ4t'),\n",
       " Status(ID=1155833802398294016, ScreenName=dedge1325, Created=Mon Jul 29 13:33:47 +0000 2019, Text='Trump invokes treason, calls for ‘long jail’ time for officials involved in Russia probe’s origins https://t.co/XtdidVBfl1'),\n",
       " Status(ID=1155833802352205824, ScreenName=AuntJackie1, Created=Mon Jul 29 13:33:47 +0000 2019, Text='RT @b77_sarah: What⁉️ Ridiculous‼️⚠️ “Pelosi’s Office Spent More on Alcohol Last Year Than Food” \\nhttps://t.co/EXtusK4Fwa'),\n",
       " Status(ID=1155833802138083328, ScreenName=Adonaisolomon, Created=Mon Jul 29 13:33:47 +0000 2019, Text='RT @Fancypantsyy: @realDonaldTrump YES I AGREE WHOLEHEARTEDLY WITH WHAT PRESIDENT TRUMP SAID YESTERDAY AND ALSO POSTED ON HERE YESTERDAY TH…'),\n",
       " Status(ID=1155833802108760064, ScreenName=ConnieMSmith2, Created=Mon Jul 29 13:33:47 +0000 2019, Text='Why do Trump voters not see he is not helping them?  Why do they not see that the Democratic held House has passed… https://t.co/BE8XSNOZX9'),\n",
       " Status(ID=1155833802096283648, ScreenName=Zoraida14_San, Created=Mon Jul 29 13:33:47 +0000 2019, Text='“La Unión Europea y China van a bajar más sus tasas de interés e inyectar dinero a sus sistemas, haciéndole mucho m… https://t.co/XChy5OMp3H'),\n",
       " Status(ID=1155833802020839425, ScreenName=PierreGestede, Created=Mon Jul 29 13:33:47 +0000 2019, Text='Don’t get complacent. Things really are that bad under Trump. https://t.co/puW5JDYmxR'),\n",
       " Status(ID=1155833801890828288, ScreenName=bossblt, Created=Mon Jul 29 13:33:47 +0000 2019, Text='RT @SamSamshaw46: Trump is a \"Kick Ass Street Kid\" and the liberal creeps trying to kill America are going down... https://t.co/f5kOHdyYQ9'),\n",
       " Status(ID=1155833801802768386, ScreenName=salisem, Created=Mon Jul 29 13:33:47 +0000 2019, Text='@tonyposnanski @Mr_A_Quadri Yes we are all sick of racist motherfuckers like you. President Trump is the least raci… https://t.co/FPqd2mCTP4'),\n",
       " Status(ID=1155833801735581697, ScreenName=Remain_Reform, Created=Mon Jul 29 13:33:47 +0000 2019, Text='▶️‘Truss will seek to collude with Trump to unleash a bonfire of regulations, and clear away any impediment to the… https://t.co/iJxipRK0nm'),\n",
       " Status(ID=1155833801723060224, ScreenName=PatStevens2, Created=Mon Jul 29 13:33:47 +0000 2019, Text='@JoyceWhiteVance @RepCummings They won’t and if they do they are silent. They are all afraid of trump. I said it ea… https://t.co/hoN6aHHTLy'),\n",
       " Status(ID=1155833801618186240, ScreenName=sailingtobyzant, Created=Mon Jul 29 13:33:47 +0000 2019, Text='RT @charliekirk11: President Trump has:\\n\\nAchieved lowest ever black unemployment\\n\\nSigned historic prison reform\\n\\nAchieved lowest ever black…'),\n",
       " Status(ID=1155833801307828225, ScreenName=TheBigMouth14, Created=Mon Jul 29 13:33:47 +0000 2019, Text='RT @MeliLabate: @ShemekaMichelle @TheBigMouth14 Trump bashed Pelosi for letting her city go bad. Bernie Sanders criticized Baltimore becaus…'),\n",
       " Status(ID=1155833801286852608, ScreenName=PrayingPatriot2, Created=Mon Jul 29 13:33:47 +0000 2019, Text='RT @larryelder: \"[Trump attacked] the son of a sharecropper...an African American lawmaker from a majority black district.”\\n--@baltimoresun…'),\n",
       " Status(ID=1155833801223938048, ScreenName=Impeach66099441, Created=Mon Jul 29 13:33:47 +0000 2019, Text='@realDonaldTrump Whitehouse is infested with rats. Trump family.'),\n",
       " Status(ID=1155833801064558592, ScreenName=jmjazbase54, Created=Mon Jul 29 13:33:47 +0000 2019, Text='@KFILE @yashar Shameful, disgusting, sycophantic and cowardly for any individual of either party to defend, excuse,… https://t.co/PeRtHY6LHx'),\n",
       " Status(ID=1155833800741597185, ScreenName=arfatbalouc, Created=Mon Jul 29 13:33:47 +0000 2019, Text='RT @baharbaloch22: Trump administration is repeating the same mistakes while supporting Pakistan militarily. These weapons once again will…'),\n",
       " Status(ID=1155833800699645952, ScreenName=gretchenwlittle, Created=Mon Jul 29 13:33:47 +0000 2019, Text='RT @JohnBrennan: Dan Coats served ably &amp; with deep integrity. Ratcliffe showed abject subservience to Trump in Mueller hearings. The women…'),\n",
       " Status(ID=1155833800263458816, ScreenName=typonow, Created=Mon Jul 29 13:33:46 +0000 2019, Text=\"This article factually supports the legitimacy of our President's Real War on Poverty'. The Dems 50-year Johnsonian… https://t.co/fj4nDukKQQ\"),\n",
       " Status(ID=1155833800141750272, ScreenName=morgandabeau, Created=Mon Jul 29 13:33:46 +0000 2019, Text='RT @bulmasan: @real_defender @realDonaldTrump Put \"Trump\" in that sentence and it works even better!'),\n",
       " Status(ID=1155833800129155072, ScreenName=kazoo1944, Created=Mon Jul 29 13:33:46 +0000 2019, Text='RT @WayneDupreeShow: Trump Responds After Learning Sharpton Going To Baltimore In Defense Of Cummings — Hates Whites &amp; Cops! \\n\\nTrump called…'),\n",
       " Status(ID=1155833800087261185, ScreenName=RAGINxCAJUN, Created=Mon Jul 29 13:33:46 +0000 2019, Text='@LATrafficGuy @usminority We just need to take over the GOP and keep MAGA going after Trump we need to Start now ca… https://t.co/tieh201wfX'),\n",
       " Status(ID=1155833800040914944, ScreenName=emelyechaucer, Created=Mon Jul 29 13:33:46 +0000 2019, Text='RT @ChrisMurphyCT: Under Obama: U.S./Europe/Russia/China vs. Iran\\n\\nUnder Trump: Iran/Europe/Russia/China vs. U.S.\\n\\nThat’s what “maximum pre…'),\n",
       " Status(ID=1155833800028385280, ScreenName=MeloniaSherban, Created=Mon Jul 29 13:33:46 +0000 2019, Text='RT @TomJChicago: 3 Trump fell hard for Putin, because Putin could shut off his money laundering faucet. Trump was like a low level Associat…'),\n",
       " Status(ID=1155833799974019072, ScreenName=HaveDemocracy, Created=Mon Jul 29 13:33:46 +0000 2019, Text='RT @CharlesMBlow: Read my column, “The Rot You Smell Is a Racist Potus,” and let me know what you think… https://t.co/xM6VFz2HsX'),\n",
       " Status(ID=1155833799667847170, ScreenName=RKaddict, Created=Mon Jul 29 13:33:46 +0000 2019, Text='RT @amvetsupport: Again  to all those who have served and still support trump (God knows why) I just reviewed the names on the Wall. trump…'),\n",
       " Status(ID=1155833799634124800, ScreenName=Hi_Canada_Rocks, Created=Mon Jul 29 13:33:46 +0000 2019, Text=\"RT @BillKristol: Reminder: What provoked Trump's attacks on Cummings? New facts about crime or poverty in Baltimore? Nope. It was that Cumm…\"),\n",
       " Status(ID=1155833799432736769, ScreenName=KeoniGohan, Created=Mon Jul 29 13:33:46 +0000 2019, Text='RT @charliekirk11: President Trump has done more for the black community in two years of being President than Al Sharpton and Elijah Cummin…'),\n",
       " Status(ID=1155833799424401408, ScreenName=ahanwadi, Created=Mon Jul 29 13:33:46 +0000 2019, Text='RT @TheRevAl: Trump says I’m a troublemaker &amp; con man. I do make trouble for bigots. If he really thought I was a con man he would want me…'),\n",
       " Status(ID=1155833799390797827, ScreenName=DrKingX, Created=Mon Jul 29 13:33:46 +0000 2019, Text='RT @keithboykin: Trump speaks on:\\nAl Sharpton: conman\\nElijah Cummings: racist\\nIlhan Omar: racist\\nMaxine Waters: low IQ\\nJohn Lewis: all talk…')]"
      ]
     },
     "execution_count": 6,
     "metadata": {},
     "output_type": "execute_result"
    }
   ],
   "source": [
    "twitter_api.GetSearch(\"Trump\", count = 100)"
   ]
  },
  {
   "cell_type": "code",
   "execution_count": null,
   "metadata": {},
   "outputs": [],
   "source": []
  }
 ],
 "metadata": {
  "kernelspec": {
   "display_name": "Python 3",
   "language": "python",
   "name": "python3"
  },
  "language_info": {
   "codemirror_mode": {
    "name": "ipython",
    "version": 3
   },
   "file_extension": ".py",
   "mimetype": "text/x-python",
   "name": "python",
   "nbconvert_exporter": "python",
   "pygments_lexer": "ipython3",
   "version": "3.7.1"
  }
 },
 "nbformat": 4,
 "nbformat_minor": 2
}
